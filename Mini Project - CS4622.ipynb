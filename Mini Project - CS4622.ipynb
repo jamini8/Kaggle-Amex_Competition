{
 "cells": [
  {
   "cell_type": "code",
   "execution_count": 34,
   "metadata": {
    "_cell_guid": "b1076dfc-b9ad-4769-8c92-a6c4dae69d19",
    "_uuid": "8f2839f25d086af736a60e9eeb907d3b93b6e0e5",
    "execution": {
     "iopub.execute_input": "2023-01-16T11:57:05.407346Z",
     "iopub.status.busy": "2023-01-16T11:57:05.406599Z",
     "iopub.status.idle": "2023-01-16T11:57:05.421947Z",
     "shell.execute_reply": "2023-01-16T11:57:05.420049Z",
     "shell.execute_reply.started": "2023-01-16T11:57:05.407265Z"
    },
    "tags": [
     "1"
    ]
   },
   "outputs": [],
   "source": [
    "import numpy as np\n",
    "import pandas as pd\n",
    "import datetime\n",
    "import warnings\n",
    "import gc\n",
    "\n",
    "import tensorflow as tf\n",
    "from tensorflow.keras.models import Model\n",
    "from tensorflow.keras.callbacks import ReduceLROnPlateau, LearningRateScheduler, EarlyStopping\n",
    "from tensorflow.keras.layers import Dense, Input, InputLayer, Add, BatchNormalization, Dropout, Concatenate\n",
    "from tensorflow.keras.utils import plot_model\n",
    "from sklearn.metrics import log_loss\n",
    "\n",
    "from sklearn.preprocessing import StandardScaler, RobustScaler, MinMaxScaler\n",
    "from sklearn.model_selection import train_test_split\n",
    "import random\n",
    "from sklearn.model_selection import StratifiedKFold\n",
    "from sklearn.model_selection import GridSearchCV\n",
    "from sklearn.neighbors import KNeighborsClassifier\n",
    "from sklearn.svm import LinearSVC\n",
    "import lightgbm\n",
    "from lightgbm import LGBMClassifier, log_evaluation\n",
    "from sklearn.preprocessing import QuantileTransformer, OneHotEncoder, OrdinalEncoder\n",
    "\n",
    "from sklearn.metrics import accuracy_score\n",
    "from sklearn.metrics import r2_score\n",
    "from sklearn.metrics import mean_absolute_error\n",
    "from sklearn.metrics import mean_squared_error"
   ]
  },
  {
   "cell_type": "code",
   "execution_count": 3,
   "metadata": {
    "execution": {
     "iopub.execute_input": "2023-01-16T11:12:19.830825Z",
     "iopub.status.busy": "2023-01-16T11:12:19.830148Z",
     "iopub.status.idle": "2023-01-16T11:13:40.870691Z",
     "shell.execute_reply": "2023-01-16T11:13:40.869662Z",
     "shell.execute_reply.started": "2023-01-16T11:12:19.830788Z"
    },
    "tags": [
     "2"
    ]
   },
   "outputs": [],
   "source": [
    "train_data = pd.read_feather('../input/parquet-files-amexdefault-prediction/train_data.ftr')\n",
    "train_labels = pd.read_csv('/kaggle/input/amex-default-prediction/train_labels.csv').set_index('customer_ID')\n",
    "test_data = pd.read_feather('../input/parquet-files-amexdefault-prediction/test_data.ftr')\n",
    "target = train_labels.target.values\n",
    "sub = pd.read_csv('/kaggle/input/amex-default-prediction/sample_submission.csv')"
   ]
  },
  {
   "cell_type": "markdown",
   "metadata": {
    "tags": [
     "3"
    ]
   },
   "source": [
    "# **Feature Engineering**"
   ]
  },
  {
   "cell_type": "markdown",
   "metadata": {
    "tags": [
     "4"
    ]
   },
   "source": [
    "# 1. Feature Aggregation\n",
    "Create a new dataset based on aggregated information from EDA"
   ]
  },
  {
   "cell_type": "code",
   "execution_count": 4,
   "metadata": {
    "execution": {
     "iopub.execute_input": "2023-01-16T11:13:40.873834Z",
     "iopub.status.busy": "2023-01-16T11:13:40.872837Z",
     "iopub.status.idle": "2023-01-16T11:13:45.402734Z",
     "shell.execute_reply": "2023-01-16T11:13:45.401437Z",
     "shell.execute_reply.started": "2023-01-16T11:13:40.873784Z"
    },
    "tags": [
     "5"
    ]
   },
   "outputs": [],
   "source": [
    "# train dataset\n",
    "trn_num_statements = train_data.groupby('customer_ID').size().sort_index()\n",
    "\n",
    "train_agg_data = (train_data\n",
    "                .groupby('customer_ID')\n",
    "                .tail(1)\n",
    "                .set_index('customer_ID', drop=True)\n",
    "                .sort_index()\n",
    "                .drop(['S_2'], axis='columns'))\n",
    "\n",
    "train_agg_data['target'] = train_labels.target\n",
    "train_agg_data['num_statements'] = trn_num_statements\n",
    "\n",
    "train_agg_data.reset_index(inplace = True, drop = True)"
   ]
  },
  {
   "cell_type": "code",
   "execution_count": 5,
   "metadata": {
    "execution": {
     "iopub.execute_input": "2023-01-16T11:13:46.554737Z",
     "iopub.status.busy": "2023-01-16T11:13:46.554252Z",
     "iopub.status.idle": "2023-01-16T11:14:06.086968Z",
     "shell.execute_reply": "2023-01-16T11:14:06.083056Z",
     "shell.execute_reply.started": "2023-01-16T11:13:46.554684Z"
    },
    "tags": [
     "6"
    ]
   },
   "outputs": [],
   "source": [
    "# test dataset\n",
    "tst_num_statements = test_data.groupby('customer_ID').size().sort_index()\n",
    "\n",
    "test_agg_data = (test_data\n",
    "                .groupby('customer_ID')\n",
    "                .tail(1)\n",
    "                .set_index('customer_ID', drop=True)\n",
    "                .sort_index()\n",
    "                .drop(['S_2'], axis='columns'))\n",
    "\n",
    "# Merge the labels from the labels dataframe\n",
    "test_agg_data['num_statements'] = tst_num_statements\n",
    "\n",
    "test_agg_data.reset_index(inplace = True, drop = True)"
   ]
  },
  {
   "cell_type": "markdown",
   "metadata": {
    "tags": [
     "7"
    ]
   },
   "source": [
    "# 2. Categorical Encoding\n",
    "<font size=3 >One hot encoding </font>"
   ]
  },
  {
   "cell_type": "code",
   "execution_count": 6,
   "metadata": {
    "execution": {
     "iopub.execute_input": "2023-01-16T11:14:13.986284Z",
     "iopub.status.busy": "2023-01-16T11:14:13.985147Z",
     "iopub.status.idle": "2023-01-16T11:14:14.000255Z",
     "shell.execute_reply": "2023-01-16T11:14:13.998385Z",
     "shell.execute_reply.started": "2023-01-16T11:14:13.986226Z"
    },
    "tags": [
     "8"
    ]
   },
   "outputs": [],
   "source": [
    "# For train data\n",
    "cat_features = ['B_30', 'B_38', 'D_114', 'D_116', 'D_117', 'D_120', 'D_126', 'D_63', 'D_64', 'D_66', 'D_68']\n",
    "\n",
    "trn_not_cat_features = [f for f in train_agg_data.columns if f not in cat_features]\n",
    "tst_not_cat_features = [f for f in test_agg_data.columns if f not in cat_features]"
   ]
  },
  {
   "cell_type": "code",
   "execution_count": 9,
   "metadata": {
    "execution": {
     "iopub.execute_input": "2023-01-16T11:15:35.553051Z",
     "iopub.status.busy": "2023-01-16T11:15:35.552108Z",
     "iopub.status.idle": "2023-01-16T11:15:36.489516Z",
     "shell.execute_reply": "2023-01-16T11:15:36.487911Z",
     "shell.execute_reply.started": "2023-01-16T11:15:35.553004Z"
    },
    "tags": [
     "9"
    ]
   },
   "outputs": [],
   "source": [
    "encoder = OrdinalEncoder()\n",
    "trn_encoded_features = encoder.fit_transform(train_agg_data[cat_features])"
   ]
  },
  {
   "cell_type": "code",
   "execution_count": 10,
   "metadata": {
    "execution": {
     "iopub.execute_input": "2023-01-16T11:16:03.638528Z",
     "iopub.status.busy": "2023-01-16T11:16:03.638017Z",
     "iopub.status.idle": "2023-01-16T11:16:05.037499Z",
     "shell.execute_reply": "2023-01-16T11:16:05.035983Z",
     "shell.execute_reply.started": "2023-01-16T11:16:03.638482Z"
    },
    "tags": [
     "10"
    ]
   },
   "outputs": [],
   "source": [
    "trn_encoded_features = pd.DataFrame(trn_encoded_features)\n",
    "train_agg_data = pd.concat([train_agg_data[trn_not_cat_features], trn_encoded_features], axis = 1)"
   ]
  },
  {
   "cell_type": "code",
   "execution_count": 11,
   "metadata": {
    "execution": {
     "iopub.execute_input": "2023-01-16T11:16:16.799961Z",
     "iopub.status.busy": "2023-01-16T11:16:16.799331Z",
     "iopub.status.idle": "2023-01-16T11:16:20.435461Z",
     "shell.execute_reply": "2023-01-16T11:16:20.434259Z",
     "shell.execute_reply.started": "2023-01-16T11:16:16.799909Z"
    },
    "tags": [
     "11"
    ]
   },
   "outputs": [
    {
     "data": {
      "text/html": [
       "<div>\n",
       "<style scoped>\n",
       "    .dataframe tbody tr th:only-of-type {\n",
       "        vertical-align: middle;\n",
       "    }\n",
       "\n",
       "    .dataframe tbody tr th {\n",
       "        vertical-align: top;\n",
       "    }\n",
       "\n",
       "    .dataframe thead th {\n",
       "        text-align: right;\n",
       "    }\n",
       "</style>\n",
       "<table border=\"1\" class=\"dataframe\">\n",
       "  <thead>\n",
       "    <tr style=\"text-align: right;\">\n",
       "      <th></th>\n",
       "      <th>P_2</th>\n",
       "      <th>D_39</th>\n",
       "      <th>B_1</th>\n",
       "      <th>B_2</th>\n",
       "      <th>R_1</th>\n",
       "      <th>S_3</th>\n",
       "      <th>D_41</th>\n",
       "      <th>B_3</th>\n",
       "      <th>D_42</th>\n",
       "      <th>D_43</th>\n",
       "      <th>...</th>\n",
       "      <th>1</th>\n",
       "      <th>2</th>\n",
       "      <th>3</th>\n",
       "      <th>4</th>\n",
       "      <th>5</th>\n",
       "      <th>6</th>\n",
       "      <th>7</th>\n",
       "      <th>8</th>\n",
       "      <th>9</th>\n",
       "      <th>10</th>\n",
       "    </tr>\n",
       "  </thead>\n",
       "  <tbody>\n",
       "    <tr>\n",
       "      <th>0</th>\n",
       "      <td>0.568848</td>\n",
       "      <td>0.121399</td>\n",
       "      <td>0.010780</td>\n",
       "      <td>1.009766</td>\n",
       "      <td>0.006924</td>\n",
       "      <td>0.149414</td>\n",
       "      <td>0.000396</td>\n",
       "      <td>0.003576</td>\n",
       "      <td>0.10376</td>\n",
       "      <td>0.007397</td>\n",
       "      <td>...</td>\n",
       "      <td>1.0</td>\n",
       "      <td>0.0</td>\n",
       "      <td>0.0</td>\n",
       "      <td>0.0</td>\n",
       "      <td>1.0</td>\n",
       "      <td>0.0</td>\n",
       "      <td>2.0</td>\n",
       "      <td>2.0</td>\n",
       "      <td>NaN</td>\n",
       "      <td>5.0</td>\n",
       "    </tr>\n",
       "    <tr>\n",
       "      <th>1</th>\n",
       "      <td>0.841309</td>\n",
       "      <td>0.126465</td>\n",
       "      <td>0.016556</td>\n",
       "      <td>1.008789</td>\n",
       "      <td>0.009712</td>\n",
       "      <td>0.112183</td>\n",
       "      <td>0.006191</td>\n",
       "      <td>0.011383</td>\n",
       "      <td>NaN</td>\n",
       "      <td>NaN</td>\n",
       "      <td>...</td>\n",
       "      <td>1.0</td>\n",
       "      <td>1.0</td>\n",
       "      <td>0.0</td>\n",
       "      <td>3.0</td>\n",
       "      <td>0.0</td>\n",
       "      <td>1.0</td>\n",
       "      <td>1.0</td>\n",
       "      <td>0.0</td>\n",
       "      <td>NaN</td>\n",
       "      <td>5.0</td>\n",
       "    </tr>\n",
       "    <tr>\n",
       "      <th>2</th>\n",
       "      <td>0.697754</td>\n",
       "      <td>0.002724</td>\n",
       "      <td>0.001485</td>\n",
       "      <td>0.810059</td>\n",
       "      <td>0.002621</td>\n",
       "      <td>0.166138</td>\n",
       "      <td>0.004887</td>\n",
       "      <td>0.015945</td>\n",
       "      <td>NaN</td>\n",
       "      <td>0.105286</td>\n",
       "      <td>...</td>\n",
       "      <td>1.0</td>\n",
       "      <td>0.0</td>\n",
       "      <td>0.0</td>\n",
       "      <td>3.0</td>\n",
       "      <td>0.0</td>\n",
       "      <td>0.0</td>\n",
       "      <td>2.0</td>\n",
       "      <td>2.0</td>\n",
       "      <td>0.0</td>\n",
       "      <td>3.0</td>\n",
       "    </tr>\n",
       "    <tr>\n",
       "      <th>3</th>\n",
       "      <td>0.513184</td>\n",
       "      <td>0.324707</td>\n",
       "      <td>0.149536</td>\n",
       "      <td>0.205688</td>\n",
       "      <td>0.002277</td>\n",
       "      <td>0.181152</td>\n",
       "      <td>0.005814</td>\n",
       "      <td>0.498535</td>\n",
       "      <td>NaN</td>\n",
       "      <td>0.211670</td>\n",
       "      <td>...</td>\n",
       "      <td>2.0</td>\n",
       "      <td>0.0</td>\n",
       "      <td>0.0</td>\n",
       "      <td>4.0</td>\n",
       "      <td>0.0</td>\n",
       "      <td>1.0</td>\n",
       "      <td>0.0</td>\n",
       "      <td>1.0</td>\n",
       "      <td>NaN</td>\n",
       "      <td>4.0</td>\n",
       "    </tr>\n",
       "    <tr>\n",
       "      <th>4</th>\n",
       "      <td>0.254395</td>\n",
       "      <td>0.768066</td>\n",
       "      <td>0.563477</td>\n",
       "      <td>0.038025</td>\n",
       "      <td>0.502930</td>\n",
       "      <td>0.168335</td>\n",
       "      <td>0.009483</td>\n",
       "      <td>0.831055</td>\n",
       "      <td>NaN</td>\n",
       "      <td>0.071899</td>\n",
       "      <td>...</td>\n",
       "      <td>5.0</td>\n",
       "      <td>0.0</td>\n",
       "      <td>0.0</td>\n",
       "      <td>0.0</td>\n",
       "      <td>1.0</td>\n",
       "      <td>0.0</td>\n",
       "      <td>1.0</td>\n",
       "      <td>1.0</td>\n",
       "      <td>NaN</td>\n",
       "      <td>4.0</td>\n",
       "    </tr>\n",
       "  </tbody>\n",
       "</table>\n",
       "<p>5 rows × 189 columns</p>\n",
       "</div>"
      ],
      "text/plain": [
       "        P_2      D_39       B_1       B_2       R_1       S_3      D_41  \\\n",
       "0  0.568848  0.121399  0.010780  1.009766  0.006924  0.149414  0.000396   \n",
       "1  0.841309  0.126465  0.016556  1.008789  0.009712  0.112183  0.006191   \n",
       "2  0.697754  0.002724  0.001485  0.810059  0.002621  0.166138  0.004887   \n",
       "3  0.513184  0.324707  0.149536  0.205688  0.002277  0.181152  0.005814   \n",
       "4  0.254395  0.768066  0.563477  0.038025  0.502930  0.168335  0.009483   \n",
       "\n",
       "        B_3     D_42      D_43  ...    1    2    3    4    5    6    7    8  \\\n",
       "0  0.003576  0.10376  0.007397  ...  1.0  0.0  0.0  0.0  1.0  0.0  2.0  2.0   \n",
       "1  0.011383      NaN       NaN  ...  1.0  1.0  0.0  3.0  0.0  1.0  1.0  0.0   \n",
       "2  0.015945      NaN  0.105286  ...  1.0  0.0  0.0  3.0  0.0  0.0  2.0  2.0   \n",
       "3  0.498535      NaN  0.211670  ...  2.0  0.0  0.0  4.0  0.0  1.0  0.0  1.0   \n",
       "4  0.831055      NaN  0.071899  ...  5.0  0.0  0.0  0.0  1.0  0.0  1.0  1.0   \n",
       "\n",
       "     9   10  \n",
       "0  NaN  5.0  \n",
       "1  NaN  5.0  \n",
       "2  0.0  3.0  \n",
       "3  NaN  4.0  \n",
       "4  NaN  4.0  \n",
       "\n",
       "[5 rows x 189 columns]"
      ]
     },
     "execution_count": 11,
     "metadata": {},
     "output_type": "execute_result"
    }
   ],
   "source": [
    "# For test data\n",
    "tst_encoded_features = encoder.transform(test_agg_data[cat_features])\n",
    "tst_encoded_features = pd.DataFrame(tst_encoded_features)\n",
    "\n",
    "test_agg_data = pd.concat([test_agg_data[tst_not_cat_features], tst_encoded_features], axis = 1)\n",
    "test_agg_data.head()"
   ]
  },
  {
   "cell_type": "code",
   "execution_count": 48,
   "metadata": {
    "execution": {
     "iopub.execute_input": "2023-01-16T12:01:13.388011Z",
     "iopub.status.busy": "2023-01-16T12:01:13.387479Z",
     "iopub.status.idle": "2023-01-16T12:01:15.320011Z",
     "shell.execute_reply": "2023-01-16T12:01:15.318533Z",
     "shell.execute_reply.started": "2023-01-16T12:01:13.387970Z"
    },
    "tags": [
     "12"
    ]
   },
   "outputs": [],
   "source": [
    "enc = OrdinalEncoder()\n",
    "categorical_cols.remove('D_66')\n",
    "\n",
    "train_dataset[categorical_cols] = enc.fit_transform(train_dataset[categorical_cols])\n",
    "test_dataset[categorical_cols] = enc.transform(test_dataset[categorical_cols])"
   ]
  },
  {
   "cell_type": "markdown",
   "metadata": {
    "tags": [
     "13"
    ]
   },
   "source": [
    "# 3. Imputation\n",
    "<font size=3 > Impute missing values</font>"
   ]
  },
  {
   "cell_type": "code",
   "execution_count": 64,
   "metadata": {
    "execution": {
     "iopub.execute_input": "2023-01-16T12:22:27.163906Z",
     "iopub.status.busy": "2023-01-16T12:22:27.163046Z",
     "iopub.status.idle": "2023-01-16T12:22:27.169268Z",
     "shell.execute_reply": "2023-01-16T12:22:27.167727Z",
     "shell.execute_reply.started": "2023-01-16T12:22:27.163860Z"
    },
    "tags": [
     "14"
    ]
   },
   "outputs": [],
   "source": [
    "# train_dataset_ = pd.read_feather('../input/amexfeather/train_data.ftr')\n",
    "# # Keep the latest statement features for each customer\n",
    "# train_dataset = train_dataset_.groupby('customer_ID').tail(1).set_index('customer_ID', drop=True).sort_index()"
   ]
  },
  {
   "cell_type": "code",
   "execution_count": 63,
   "metadata": {
    "execution": {
     "iopub.execute_input": "2023-01-16T12:22:22.712507Z",
     "iopub.status.busy": "2023-01-16T12:22:22.712053Z",
     "iopub.status.idle": "2023-01-16T12:22:22.718388Z",
     "shell.execute_reply": "2023-01-16T12:22:22.717255Z",
     "shell.execute_reply.started": "2023-01-16T12:22:22.712471Z"
    },
    "tags": [
     "15"
    ]
   },
   "outputs": [],
   "source": [
    "# categorical_cols = ['B_30', 'B_38', 'D_114', 'D_116', 'D_117', 'D_120', 'D_126', 'D_63', 'D_64', 'D_66', 'D_68']\n",
    "\n",
    "# num_cols = [col for col in train_dataset.columns if col not in categorical_cols + [\"target\"]]"
   ]
  },
  {
   "cell_type": "code",
   "execution_count": 65,
   "metadata": {
    "execution": {
     "iopub.execute_input": "2023-01-16T12:22:28.935969Z",
     "iopub.status.busy": "2023-01-16T12:22:28.935493Z",
     "iopub.status.idle": "2023-01-16T12:22:28.941706Z",
     "shell.execute_reply": "2023-01-16T12:22:28.940225Z",
     "shell.execute_reply.started": "2023-01-16T12:22:28.935931Z"
    },
    "tags": [
     "16"
    ]
   },
   "outputs": [],
   "source": [
    "# Delinquency = [d for d in train_dataset.columns if d.startswith('D_')]\n",
    "# Spend = [s for s in train_dataset.columns if s.startswith('S_')]\n",
    "# Payment = [p for p in train_dataset.columns if p.startswith('P_')]\n",
    "# Balance = [b for b in train_dataset.columns if b.startswith('B_')]\n",
    "# Risk = [r for r in train_dataset.columns if r.startswith('R_')]\n",
    "# Dict = {'Delinquency': len(Delinquency), 'Spend': len(Spend), 'Payment': len(Payment), 'Balance': len(Balance), 'Risk': len(Risk),}"
   ]
  },
  {
   "cell_type": "code",
   "execution_count": 66,
   "metadata": {
    "execution": {
     "iopub.execute_input": "2023-01-16T12:22:31.609681Z",
     "iopub.status.busy": "2023-01-16T12:22:31.609209Z",
     "iopub.status.idle": "2023-01-16T12:22:31.616288Z",
     "shell.execute_reply": "2023-01-16T12:22:31.614730Z",
     "shell.execute_reply.started": "2023-01-16T12:22:31.609638Z"
    },
    "tags": [
     "17"
    ]
   },
   "outputs": [],
   "source": [
    "# train_dataset = train_dataset.drop(['S_2','D_66','D_42','D_49','D_73','D_76','R_9','B_29','D_87','D_88','D_106','R_26','D_108','D_110','D_111','B_39','B_42','D_132','D_134','D_135','D_136','D_137','D_138','D_142'], axis=1)"
   ]
  },
  {
   "cell_type": "code",
   "execution_count": 67,
   "metadata": {
    "execution": {
     "iopub.execute_input": "2023-01-16T12:22:33.605095Z",
     "iopub.status.busy": "2023-01-16T12:22:33.604594Z",
     "iopub.status.idle": "2023-01-16T12:22:33.611860Z",
     "shell.execute_reply": "2023-01-16T12:22:33.610285Z",
     "shell.execute_reply.started": "2023-01-16T12:22:33.605047Z"
    },
    "tags": [
     "18"
    ]
   },
   "outputs": [],
   "source": [
    "# selected_col = np.array(['P_2','S_3','B_2','D_41','D_43','B_3','D_44','D_45','D_46','D_48','D_50','D_53','S_7','D_56','S_9','B_6','B_8','D_52','P_3','D_54','D_55','B_13','D_59','D_61','B_15','D_62','B_16','B_17','D_77','B_19','B_20','D_69','B_22','D_70','D_72','D_74','R_7','B_25','B_26','D_78','D_79','D_80','B_27','D_81','R_12','D_82','D_105','S_27','D_83','R_14','D_84','D_86','R_20','B_33','D_89','D_91','S_22','S_23','S_24','S_25','S_26','D_102','D_103','D_104','D_107','B_37','R_27','D_109','D_112','B_40','D_113','D_115','D_118','D_119','D_121','D_122','D_123','D_124','D_125','D_128','D_129','B_41','D_130','D_131','D_133','D_139','D_140','D_141','D_143','D_144','D_145'])\n",
    "\n",
    "# for col in selected_col:\n",
    "#     train_dataset[col] = train_dataset[col].fillna(train_dataset[col].median())\n",
    "\n",
    "# selcted_col2 = np.array(['D_68','B_30','B_38','D_64','D_114','D_116','D_117','D_120','D_126'])\n",
    "\n",
    "# for col2 in selcted_col2:\n",
    "#     train_dataset[col2] =  train_dataset[col2].fillna(train_dataset[col2].mode()[0])"
   ]
  },
  {
   "cell_type": "code",
   "execution_count": 68,
   "metadata": {
    "execution": {
     "iopub.execute_input": "2023-01-16T12:22:35.403785Z",
     "iopub.status.busy": "2023-01-16T12:22:35.403280Z",
     "iopub.status.idle": "2023-01-16T12:22:35.410247Z",
     "shell.execute_reply": "2023-01-16T12:22:35.408518Z",
     "shell.execute_reply.started": "2023-01-16T12:22:35.403743Z"
    },
    "tags": [
     "19"
    ]
   },
   "outputs": [],
   "source": [
    "# test_dataset_ = pd.read_feather('../input/amexfeather/test_data.ftr')\n",
    "\n",
    "# test_dataset = test_dataset_.groupby('customer_ID').tail(1).set_index('customer_ID', drop=True).sort_index()"
   ]
  },
  {
   "cell_type": "code",
   "execution_count": 69,
   "metadata": {
    "execution": {
     "iopub.execute_input": "2023-01-16T12:22:37.497667Z",
     "iopub.status.busy": "2023-01-16T12:22:37.497170Z",
     "iopub.status.idle": "2023-01-16T12:22:37.503161Z",
     "shell.execute_reply": "2023-01-16T12:22:37.501671Z",
     "shell.execute_reply.started": "2023-01-16T12:22:37.497600Z"
    },
    "tags": [
     "20"
    ]
   },
   "outputs": [],
   "source": [
    "# test_dataset = test_dataset.drop(['S_2','D_42','D_49','D_66','D_73','D_76','R_9','B_29','D_87','D_88','D_106','R_26','D_108','D_110','D_111','B_39','B_42','D_132','D_134','D_135','D_136','D_137','D_138','D_142'], axis=1)"
   ]
  },
  {
   "cell_type": "code",
   "execution_count": 70,
   "metadata": {
    "execution": {
     "iopub.execute_input": "2023-01-16T12:22:39.366722Z",
     "iopub.status.busy": "2023-01-16T12:22:39.366221Z",
     "iopub.status.idle": "2023-01-16T12:22:39.372538Z",
     "shell.execute_reply": "2023-01-16T12:22:39.370932Z",
     "shell.execute_reply.started": "2023-01-16T12:22:39.366684Z"
    },
    "tags": [
     "21"
    ]
   },
   "outputs": [],
   "source": [
    "# selected_column = np.array(['P_2','S_3','B_2','D_41','D_43','B_3','D_44','D_45','D_46','D_48','D_50','D_53','S_7','D_56','S_9','S_12','S_17','B_6','B_8','D_52','P_3','D_54','D_55','B_13','D_59','D_61','B_15','D_62','B_16','B_17','D_77','B_19','B_20','D_69','B_22','D_70','D_72','D_74','R_7','B_25','B_26','D_78','D_79','D_80','B_27','D_81','R_12','D_82','D_105','S_27','D_83','R_14','D_84','D_86','R_20','B_33','D_89','D_91','S_22','S_23','S_24','S_25','S_26','D_102','D_103','D_104','D_107','B_37','R_27','D_109','D_112','B_40','D_113','D_115','D_118','D_119','D_121','D_122','D_123','D_124','D_125','D_128','D_129','B_41','D_130','D_131','D_133','D_139','D_140','D_141','D_143','D_144','D_145'])\n",
    "\n",
    "# for column in selected_column:\n",
    "#     test_dataset[column] = test_dataset[column].fillna(test_dataset[column].median())\n",
    "\n",
    "# selected_column2 = np.array(['D_68','B_30','B_38','D_114','D_116','D_117','D_120','D_126'])\n",
    "\n",
    "# for column2 in selected_column2:\n",
    "#     test_dataset[column2] =  test_dataset[column2].fillna(test_dataset[column2].mode()[0])"
   ]
  },
  {
   "cell_type": "code",
   "execution_count": 62,
   "metadata": {
    "execution": {
     "iopub.execute_input": "2023-01-16T12:22:20.511412Z",
     "iopub.status.busy": "2023-01-16T12:22:20.510182Z",
     "iopub.status.idle": "2023-01-16T12:22:22.529465Z",
     "shell.execute_reply": "2023-01-16T12:22:22.528030Z",
     "shell.execute_reply.started": "2023-01-16T12:22:20.511345Z"
    },
    "tags": [
     "22"
    ]
   },
   "outputs": [],
   "source": [
    "# fill missing values with a number (0)\n",
    "train_agg_data.fillna(value = 0, inplace = True)\n",
    "test_agg_data.fillna(value = 0, inplace = True)"
   ]
  },
  {
   "cell_type": "markdown",
   "metadata": {
    "tags": [
     "23"
    ]
   },
   "source": [
    "# 4. Creating Features"
   ]
  },
  {
   "cell_type": "code",
   "execution_count": null,
   "metadata": {
    "tags": [
     "24"
    ]
   },
   "outputs": [],
   "source": [
    "features_avg = ['B_1', 'B_2', 'B_3', 'B_4', 'B_5', 'B_6', 'B_8', 'B_9', 'B_10', 'B_11', 'B_12', 'B_13', 'B_14',\\\n",
    "                'B_15', 'B_16', 'B_17', 'B_18', 'B_19', 'B_20', 'B_21', 'B_22', 'B_23', 'B_24', 'B_25', 'B_28',\\\n",
    "                'B_29', 'B_30', 'B_32', 'B_33', 'B_37', 'B_38', 'B_39', 'B_40', 'B_41',  'D_39', 'D_41',\\\n",
    "                'D_42', 'D_43', 'D_44', 'D_45', 'D_46', 'D_47', 'D_48', 'D_50', 'D_51', 'D_53', 'D_54', 'D_55',\\\n",
    "                'D_58', 'D_59', 'D_60', 'D_61', 'D_62', 'D_65', 'D_66', 'D_69', 'D_70', 'D_71', 'D_72', 'D_73',\\\n",
    "                'D_74', 'D_75', 'D_76', 'D_77', 'D_78', 'D_80', 'D_82', 'D_84', 'D_91', 'D_92', 'D_96',\\\n",
    "                'D_103', 'D_104', 'D_108', 'D_112', 'D_113', 'D_114', 'D_115', 'D_117', 'D_118', 'D_119', 'D_120',\\\n",
    "                'D_121', 'D_122', 'D_123', 'D_124', 'D_125', 'D_126', 'D_128', 'D_129', 'D_131', 'D_132', 'D_133',\\\n",
    "                'D_134', 'D_135', 'D_136', 'D_140', 'D_141', 'D_142', 'D_144', 'D_145', 'P_2', 'P_3', 'P_4', 'R_1',\\\n",
    "                'R_2', 'R_3', 'R_7', 'R_8', 'R_9', 'R_10', 'R_11', 'R_14', 'R_15', 'R_16', 'R_17', 'R_20', \\\n",
    "                'R_22',  'R_26', 'R_27', 'S_3', 'S_5', 'S_6', 'S_7', 'S_9', 'S_11', 'S_12', 'S_13', 'S_15', 'S_16',\\\n",
    "                'S_18', 'S_22', 'S_23', 'S_25', 'S_26', 'B_42','D_86','D_94','R_21','R_24']\n",
    "features_min = ['B_2', 'B_4', 'B_5', 'B_9', 'B_13', 'B_14', 'B_15', 'B_16', 'B_17', 'B_19', 'B_20', 'B_28',\\\n",
    "                'B_29', 'B_36',  'D_41', 'D_42', 'D_45', 'D_46', 'D_48', 'D_50', 'D_51',\\\n",
    "                'D_53', 'D_55', 'D_56', 'D_58', 'D_59', 'D_60', 'D_62', 'D_71', 'D_74', 'D_75', \\\n",
    "                'D_102', 'D_112', 'D_113', 'D_115', 'D_118', 'D_119', 'D_121', 'D_122', 'D_128', 'D_132',\\\n",
    "                'D_141', 'D_144', 'D_145', 'P_2', 'P_3', 'R_1', 'R_27', 'S_3', 'S_5', 'S_7', 'S_9', 'S_11',\\\n",
    "                'S_12', 'S_23', 'S_25','B_42','B_33', 'D_39', 'D_78','D_83','D_70','D_140']\n",
    "features_max = ['B_1', 'B_2', 'B_3', 'B_4', 'B_5', 'B_6', 'B_7', 'B_8', 'B_9', 'B_10', 'B_12', 'B_13', 'B_14', 'B_15',\\\n",
    "                'B_16', 'B_17', 'B_18', 'B_19', 'B_21', 'B_23', 'B_24', 'B_25', 'B_29', 'B_30', 'B_37', 'B_38',\\\n",
    "                'B_40', 'D_39', 'D_41', 'D_42', 'D_43', 'D_44', 'D_45', 'D_46', 'D_47', 'D_48', 'D_49',\\\n",
    "                'D_50', 'D_52', 'D_55', 'D_56', 'D_58', 'D_59', 'D_60', 'D_61', 'D_63', 'D_64', 'D_65', 'D_70', 'D_71',\\\n",
    "                'D_72', 'D_73', 'D_74', 'D_76', 'D_77', 'D_78', 'D_80', 'D_82', 'D_84', 'D_102', 'D_105', 'D_107',\\\n",
    "                'D_110', 'D_112', 'D_115', 'D_116', 'D_117', 'D_118', 'D_119', 'D_121', 'D_122', 'D_123', 'D_124',\\\n",
    "                'D_125', 'D_128', 'D_131', 'D_132', 'D_133', 'D_134', 'D_138',  'D_141',\\\n",
    "                'D_142', 'D_144', 'D_145', 'P_2', 'P_3', 'P_4', 'R_1', 'R_3', 'R_5', 'R_6', 'R_7','R_10', 'R_11', \\\n",
    "                'R_14',  'R_20', 'R_26', 'R_27', 'S_3', 'S_5', 'S_7', 'S_8', 'S_11', 'S_12', 'S_13', 'S_15', 'S_16', \\\n",
    "                'S_22', 'S_23', 'S_24', 'S_25', 'S_26', 'S_27','B_42','B_39','D_91',  'R_8', 'D_136','D_140','D_111','D_126','D_135','B_33','R_17']\n",
    "features_last = ['B_1', 'B_2', 'B_3', 'B_4', 'B_5', 'B_6', 'B_7', 'B_8', 'B_9', 'B_10', 'B_11', 'B_12', 'B_13', 'B_14', \\\n",
    "                 'B_15', 'B_16', 'B_17', 'B_18', 'B_19', 'B_20', 'B_21', 'B_22', 'B_23', 'B_24', 'B_25', 'B_26', 'B_28',\\\n",
    "                 'B_29', 'B_30', 'B_33', 'B_36', 'B_37', 'B_38', 'B_39', 'B_40', 'D_39', 'D_41',\\\n",
    "                 'D_42', 'D_43', 'D_44', 'D_45', 'D_46', 'D_47', 'D_48', 'D_49', 'D_50', 'D_51', 'D_52', 'D_53', 'D_54',\\\n",
    "                 'D_55', 'D_56', 'D_58', 'D_59', 'D_60', 'D_61', 'D_62', 'D_63', 'D_64', 'D_65', 'D_69', 'D_70', 'D_71',\\\n",
    "                 'D_72',  'D_75', 'D_76', 'D_77', 'D_78', 'D_79', 'D_80',  'D_82', 'D_83', 'D_86', 'D_91',\\\n",
    "                 'D_96', 'D_105', 'D_106', 'D_112', 'D_114', 'D_119', 'D_120', 'D_121', 'D_122', 'D_124',  \\\n",
    "                 'D_127', 'D_130', 'D_131', 'D_132', 'D_133', 'D_134', 'D_138', 'D_140', 'D_141', 'D_142', \\\n",
    "                 'D_145', 'P_2', 'P_3', 'P_4', 'R_1', 'R_2', 'R_3',  'R_5', 'R_6', 'R_7', 'R_9', 'R_10',\\\n",
    "                 'R_11', 'R_12', 'R_20', 'R_26', 'R_27', 'S_3', 'S_5', 'S_7', \\\n",
    "                 'S_8', 'S_9', 'S_11', 'S_12', 'S_13', 'S_16', 'S_19', 'S_20', 'S_22', 'S_23', 'S_24', 'S_25', 'S_26',\\\n",
    "                 'S_27','B_32','B_41', 'B_42', 'D_73','D_81','D_125','D_126', 'R_4', 'R_14', 'R_8','R_13','R_15','R_19','S_6']\n",
    "\n",
    "\n",
    "df_avg = (train_agg_data\n",
    "          .groupby(cid)\n",
    "          .mean()[features_avg]\n",
    "          .rename(columns={f: f\"{f}_avg\" for f in features_avg})\n",
    "         )\n",
    "df_min = (train_agg_data\n",
    "          .groupby(cid)\n",
    "          .min()[features_min]\n",
    "          .rename(columns={f: f\"{f}_min\" for f in features_min})\n",
    "         )\n",
    "df_max = (train_agg_data\n",
    "          .groupby(cid)\n",
    "          .max()[features_max]\n",
    "          .rename(columns={f: f\"{f}_max\" for f in features_max})\n",
    "         )\n",
    "\n",
    "train_agg_data = (train_agg_data.loc[last, features_last]\n",
    "      .rename(columns={f: f\"{f}_last\" for f in features_last})\n",
    "      .set_index(np.asarray(cid[last]))\n",
    "     )\n",
    "\n",
    "train_agg_data = pd.concat([train_agg_data, df_min, df_max,df_avg], axis=1)\n",
    "\n",
    "df_avg = (test_agg_data\n",
    "          .groupby(cid)\n",
    "          .mean()[features_avg]\n",
    "          .rename(columns={f: f\"{f}_avg\" for f in features_avg})\n",
    "         )\n",
    "df_min = (test_agg_data\n",
    "          .groupby(cid)\n",
    "          .min()[features_min]\n",
    "          .rename(columns={f: f\"{f}_min\" for f in features_min})\n",
    "         )\n",
    "df_max = (test_agg_data\n",
    "          .groupby(cid)\n",
    "          .max()[features_max]\n",
    "          .rename(columns={f: f\"{f}_max\" for f in features_max})\n",
    "         )\n",
    "\n",
    "test_agg_data = (test_agg_data.loc[last, features_last]\n",
    "      .rename(columns={f: f\"{f}_last\" for f in features_last})\n",
    "      .set_index(np.asarray(cid[last]))\n",
    "     )\n",
    "\n",
    "test_agg_data = pd.concat([test_agg_data, df_min, df_max,df_avg], axis=1)"
   ]
  },
  {
   "cell_type": "markdown",
   "metadata": {
    "tags": [
     "25"
    ]
   },
   "source": [
    "# 5. Scaling"
   ]
  },
  {
   "cell_type": "code",
   "execution_count": null,
   "metadata": {
    "tags": [
     "26"
    ]
   },
   "outputs": [],
   "source": [
    "scaler = StandardScaler()\n",
    "\n",
    "train_agg_data_ = scaler.fit_transform(train_agg_data)\n",
    "test_data_scaled_ = scaler.transform(test_agg_data[features])"
   ]
  },
  {
   "cell_type": "markdown",
   "metadata": {
    "tags": [
     "27"
    ]
   },
   "source": [
    "# Evaluation Metrics"
   ]
  },
  {
   "cell_type": "code",
   "execution_count": null,
   "metadata": {
    "tags": [
     "28"
    ]
   },
   "outputs": [],
   "source": [
    "#amex metric\n",
    "def amex_metric(y_true, y_pred, return_components=False) -> float:\n",
    "    \n",
    "    def top_four_percent_captured(df) -> float:\n",
    "        \n",
    "        df['weight'] = df['target'].apply(lambda x: 20 if x==0 else 1)\n",
    "        four_pct_cutoff = int(0.04 * df['weight'].sum())\n",
    "        df['weight_cumsum'] = df['weight'].cumsum()\n",
    "        df_cutoff = df.loc[df['weight_cumsum'] <= four_pct_cutoff]\n",
    "        return (df_cutoff['target'] == 1).sum() / (df['target'] == 1).sum() \n",
    "    \n",
    "    def weighted_gini(df) -> float:\n",
    "        df['weight'] = df['target'].apply(lambda x: 20 if x==0 else 1)\n",
    "        df['random'] = (df['weight'] / df['weight'].sum()).cumsum()\n",
    "        total_pos = (df['target'] * df['weight']).sum()\n",
    "        df['cum_pos_found'] = (df['target'] * df['weight']).cumsum()\n",
    "        df['lorentz'] = df['cum_pos_found'] / total_pos\n",
    "        df['gini'] = (df['lorentz'] - df['random']) * df['weight']\n",
    "        return df['gini'].sum()\n",
    "\n",
    "    def normalized_weighted_gini(df) -> float:\n",
    "        \n",
    "        df2 = pd.DataFrame({'target': df.target, 'prediction': df.target})\n",
    "        df2.sort_values('prediction', ascending=False, inplace=True)\n",
    "        return weighted_gini(df) / weighted_gini(df2)\n",
    "    \n",
    "    df = pd.DataFrame({'target': y_true.ravel(), 'prediction': y_pred.ravel()})\n",
    "    df.sort_values('prediction', ascending=False, inplace=True)\n",
    "    g = normalized_weighted_gini(df)\n",
    "    d = top_four_percent_captured(df)\n",
    "\n",
    "    if return_components: return g, d, 0.5 * (g + d)\n",
    "    return 0.5 * (g + d)\n",
    "\n",
    "# MAE, RMSE, R SQUARED, ACCURACY\n",
    "def evaluate(y_test , y_pred):\n",
    "    print(\"MAE: \",mean_absolute_error(y_test,y_pred) , '\\n')\n",
    "        \n",
    "    print(\"RMSE: \",np.sqrt(mean_squared_error(y_test,y_pred)), '\\n')\n",
    "        \n",
    "    r2 = r2_score(y_test,y_pred)\n",
    "    print(\"R Squared: \",r2, '\\n')\n",
    "    \n",
    "    accuracy = accuracy_score(y_test, y_pred, normalize=True)\n",
    "    print(\"Accuracy: \",accuracy, '\\n')"
   ]
  },
  {
   "cell_type": "markdown",
   "metadata": {
    "tags": [
     "29"
    ]
   },
   "source": [
    "***Remove highly correlated features***"
   ]
  },
  {
   "cell_type": "code",
   "execution_count": 49,
   "metadata": {
    "execution": {
     "iopub.execute_input": "2023-01-16T12:01:32.457921Z",
     "iopub.status.busy": "2023-01-16T12:01:32.457426Z",
     "iopub.status.idle": "2023-01-16T12:02:13.077317Z",
     "shell.execute_reply": "2023-01-16T12:02:13.076014Z",
     "shell.execute_reply.started": "2023-01-16T12:01:32.457882Z"
    },
    "tags": [
     "30"
    ]
   },
   "outputs": [
    {
     "data": {
      "text/plain": [
       "{'B_11',\n",
       " 'B_13',\n",
       " 'B_15',\n",
       " 'B_23',\n",
       " 'B_33',\n",
       " 'B_37',\n",
       " 'D_104',\n",
       " 'D_119',\n",
       " 'D_141',\n",
       " 'D_143',\n",
       " 'D_74',\n",
       " 'D_75',\n",
       " 'D_77',\n",
       " 'S_24',\n",
       " 'S_7'}"
      ]
     },
     "execution_count": 49,
     "metadata": {},
     "output_type": "execute_result"
    }
   ],
   "source": [
    "# train_dataset_without_target = train_dataset.drop([\"target\"],axis=1)\n",
    "\n",
    "# cor_matrix = train_dataset_without_target.corr()\n",
    "# col_core = set()\n",
    "\n",
    "# for i in range(len(cor_matrix.columns)):\n",
    "#     for j in range(i):\n",
    "#         if(cor_matrix.iloc[i, j] > 0.9):\n",
    "#             col_name = cor_matrix.columns[i]\n",
    "#             col_core.add(col_name)\n",
    "# col_core"
   ]
  },
  {
   "cell_type": "code",
   "execution_count": 50,
   "metadata": {
    "execution": {
     "iopub.execute_input": "2023-01-16T12:02:13.079875Z",
     "iopub.status.busy": "2023-01-16T12:02:13.079441Z",
     "iopub.status.idle": "2023-01-16T12:02:14.075540Z",
     "shell.execute_reply": "2023-01-16T12:02:14.074357Z",
     "shell.execute_reply.started": "2023-01-16T12:02:13.079822Z"
    },
    "tags": [
     "31"
    ]
   },
   "outputs": [],
   "source": [
    "# train_dataset = train_dataset.drop(col_core, axis=1)\n",
    "# test_dataset = test_dataset.drop(col_core, axis=1)"
   ]
  },
  {
   "cell_type": "markdown",
   "metadata": {
    "tags": [
     "32"
    ]
   },
   "source": [
    "# **<font size=5.5 color=\"blue\">Implementation & Validation</font>**"
   ]
  },
  {
   "cell_type": "code",
   "execution_count": 51,
   "metadata": {
    "execution": {
     "iopub.execute_input": "2023-01-16T12:03:14.733384Z",
     "iopub.status.busy": "2023-01-16T12:03:14.731694Z",
     "iopub.status.idle": "2023-01-16T12:03:16.460653Z",
     "shell.execute_reply": "2023-01-16T12:03:16.459119Z",
     "shell.execute_reply.started": "2023-01-16T12:03:14.733328Z"
    },
    "tags": [
     "33"
    ]
   },
   "outputs": [],
   "source": [
    "# split dataset\n",
    "y = train_agg_data['target']\n",
    "X = train_agg_data.drop('target', axis=1)\n",
    "\n",
    "x_train, x_test , y_train , y_test = train_test_split(X,y,test_size=0.3,random_state=42) "
   ]
  },
  {
   "cell_type": "markdown",
   "metadata": {
    "tags": [
     "34"
    ]
   },
   "source": [
    "# **KNN**"
   ]
  },
  {
   "cell_type": "code",
   "execution_count": null,
   "metadata": {
    "tags": [
     "35"
    ]
   },
   "outputs": [],
   "source": [
    "# instantiate the model with k=5\n",
    "knn_model = KNeighborsClassifier(n_neighbors=5)\n",
    "\n",
    "# fit the model to the training set\n",
    "knn_model.fit(x_train, y_train)\n",
    "\n",
    "# predict on the test-set\n",
    "y_pred_knn = knn_model.predict(x_test)"
   ]
  },
  {
   "cell_type": "code",
   "execution_count": 7,
   "metadata": {
    "execution": {
     "iopub.execute_input": "2023-01-15T23:34:23.842377Z",
     "iopub.status.busy": "2023-01-15T23:34:23.842015Z",
     "iopub.status.idle": "2023-01-15T23:34:23.853219Z",
     "shell.execute_reply": "2023-01-15T23:34:23.852279Z",
     "shell.execute_reply.started": "2023-01-15T23:34:23.842341Z"
    },
    "tags": [
     "36"
    ]
   },
   "outputs": [
    {
     "name": "stdout",
     "output_type": "stream",
     "text": [
      "\n",
      "AMEX METRIC:  0.46709616342968685\n",
      "\n",
      "MAE:  0.13537365307300916 \n",
      "\n",
      "RMSE:  0.36793158749013266 \n",
      "\n",
      "R Squared:  0.2945193916954576 \n",
      "\n",
      "Accuracy:  0.8646263469269908 \n",
      "\n"
     ]
    }
   ],
   "source": [
    "print('AMEX METRIC: ',amex_metric_np(y_test.values, y_pred_knn, return_components=False))\n",
    "print('')\n",
    "evaluate(y_test , y_pred_knn)"
   ]
  },
  {
   "cell_type": "code",
   "execution_count": null,
   "metadata": {
    "tags": [
     "37"
    ]
   },
   "outputs": [],
   "source": [
    "# make predictions\n",
    "predictions_knn = knn_5.predict(test_dataset)\n",
    "output_knn = pd.DataFrame({'customer_ID': sub.customer_ID, 'prediction': predictions_knn})\n",
    "output_knn.to_csv('submission_knn.csv', index=False)"
   ]
  },
  {
   "cell_type": "markdown",
   "metadata": {
    "tags": [
     "38"
    ]
   },
   "source": [
    "# **SVM**"
   ]
  },
  {
   "cell_type": "code",
   "execution_count": null,
   "metadata": {
    "tags": [
     "39"
    ]
   },
   "outputs": [],
   "source": [
    "# from sklearn.model_selection import train_test_split\n",
    "# from sklearn.metrics import accuracy_score\n",
    "\n",
    "# x_train,x_test,y_train,y_test = train_test_split(X, y, test_size=0.2, random_state=42, stratify=y)"
   ]
  },
  {
   "cell_type": "code",
   "execution_count": 53,
   "metadata": {
    "execution": {
     "iopub.execute_input": "2023-01-16T12:12:14.946355Z",
     "iopub.status.busy": "2023-01-16T12:12:14.944702Z",
     "iopub.status.idle": "2023-01-16T12:12:14.952205Z",
     "shell.execute_reply": "2023-01-16T12:12:14.951092Z",
     "shell.execute_reply.started": "2023-01-16T12:12:14.946299Z"
    },
    "tags": [
     "40"
    ]
   },
   "outputs": [],
   "source": [
    "param_grid = { \n",
    "    'C': [6,7,8],\n",
    "}\n",
    "clf = LinearSVC(class_weight='balanced', dual=False, penalty = \"l1\", random_state = 42)\n",
    "svc_random = GridSearchCV(estimator = clf, param_grid = param_grid, cv=2, verbose=0, n_jobs = -1)\n",
    "svc_random.fit(x_train,y_train)\n",
    "svc_model = svc_random.best_estimator_\n",
    "\n",
    "y_pred_svm = svc_model.predict(x_test)"
   ]
  },
  {
   "cell_type": "code",
   "execution_count": null,
   "metadata": {
    "execution": {
     "iopub.status.busy": "2023-01-16T12:12:10.551739Z",
     "iopub.status.idle": "2023-01-16T12:12:10.552179Z",
     "shell.execute_reply": "2023-01-16T12:12:10.551995Z",
     "shell.execute_reply.started": "2023-01-16T12:12:10.551975Z"
    },
    "tags": [
     "41"
    ]
   },
   "outputs": [],
   "source": [
    "print('AMEX METRIC: ',amex_metric(y_test, y_pred, return_components=False))\n",
    "print('')\n",
    "evaluate(y_test , y_pred)"
   ]
  },
  {
   "cell_type": "code",
   "execution_count": null,
   "metadata": {
    "execution": {
     "iopub.status.busy": "2023-01-16T12:12:10.554204Z",
     "iopub.status.idle": "2023-01-16T12:12:10.555134Z",
     "shell.execute_reply": "2023-01-16T12:12:10.554784Z",
     "shell.execute_reply.started": "2023-01-16T12:12:10.554751Z"
    },
    "tags": [
     "42"
    ]
   },
   "outputs": [],
   "source": [
    "# make predictions\n",
    "predictions = svc_model.predict(test_dataset[num_columns])\n",
    "output_svm = pd.DataFrame({'customer_ID': sub.customer_ID, 'prediction': predictions})\n",
    "output_svm.to_csv('submission_svm.csv', index=False)"
   ]
  },
  {
   "cell_type": "markdown",
   "metadata": {
    "tags": [
     "43"
    ]
   },
   "source": [
    "# **LGBMClassifier**"
   ]
  },
  {
   "cell_type": "code",
   "execution_count": 9,
   "metadata": {
    "execution": {
     "iopub.execute_input": "2023-01-16T00:17:04.995780Z",
     "iopub.status.busy": "2023-01-16T00:17:04.995382Z",
     "iopub.status.idle": "2023-01-16T00:17:05.005604Z",
     "shell.execute_reply": "2023-01-16T00:17:05.004490Z",
     "shell.execute_reply.started": "2023-01-16T00:17:04.995748Z"
    },
    "tags": [
     "44"
    ]
   },
   "outputs": [
    {
     "name": "stdout",
     "output_type": "stream",
     "text": [
      "\n",
      "[100]\tvalid_0's binary_logloss: 0.246906\tvalid_0's amex: 0.764519\n",
      "[200]\tvalid_0's binary_logloss: 0.228331\tvalid_0's amex: 0.780338\n",
      "[300]\tvalid_0's binary_logloss: 0.223375\tvalid_0's amex: 0.785591\n",
      "[400]\tvalid_0's binary_logloss: 0.221115\tvalid_0's amex: 0.78835\n",
      "[500]\tvalid_0's binary_logloss: 0.219791\tvalid_0's amex: 0.790354\n",
      "[600]\tvalid_0's binary_logloss: 0.218981\tvalid_0's amex: 0.791777\n",
      "[700]\tvalid_0's binary_logloss: 0.218384\tvalid_0's amex: 0.792521\n",
      "[800]\tvalid_0's binary_logloss: 0.217952\tvalid_0's amex: 0.793035\n",
      "[900]\tvalid_0's binary_logloss: 0.217702\tvalid_0's amex: 0.793741\n",
      "[1000]\tvalid_0's binary_logloss: 0.217524\tvalid_0's amex: 0.793917\n",
      "[1100]\tvalid_0's binary_logloss: 0.217322\tvalid_0's amex: 0.793403\n",
      "[1200]\tvalid_0's binary_logloss: 0.217244\tvalid_0's amex: 0.793542\n",
      "[1300]\tvalid_0's binary_logloss: 0.21716\tvalid_0's amex: 0.794232\n",
      "Fold 0 | 04:42 |  1300 trees |                Score = 0.79399\n",
      "[100]\tvalid_0's binary_logloss: 0.245696\tvalid_0's amex: 0.761222\n",
      "[200]\tvalid_0's binary_logloss: 0.227068\tvalid_0's amex: 0.776861\n",
      "[300]\tvalid_0's binary_logloss: 0.222098\tvalid_0's amex: 0.783808\n",
      "[400]\tvalid_0's binary_logloss: 0.219992\tvalid_0's amex: 0.787392\n",
      "[500]\tvalid_0's binary_logloss: 0.2188\tvalid_0's amex: 0.788676\n",
      "[600]\tvalid_0's binary_logloss: 0.218072\tvalid_0's amex: 0.788958\n",
      "[700]\tvalid_0's binary_logloss: 0.217598\tvalid_0's amex: 0.789105\n",
      "[800]\tvalid_0's binary_logloss: 0.21731\tvalid_0's amex: 0.789798\n",
      "[900]\tvalid_0's binary_logloss: 0.217123\tvalid_0's amex: 0.790119\n",
      "[1000]\tvalid_0's binary_logloss: 0.21695\tvalid_0's amex: 0.790055\n",
      "[1100]\tvalid_0's binary_logloss: 0.216853\tvalid_0's amex: 0.790536\n",
      "[1200]\tvalid_0's binary_logloss: 0.216812\tvalid_0's amex: 0.790663\n",
      "[1300]\tvalid_0's binary_logloss: 0.21677\tvalid_0's amex: 0.790642\n",
      "Fold 1 | 04:56 |  1300 trees |                Score = 0.79040\n",
      "[100]\tvalid_0's binary_logloss: 0.24468\tvalid_0's amex: 0.768012\n",
      "[200]\tvalid_0's binary_logloss: 0.225661\tvalid_0's amex: 0.780077\n",
      "[300]\tvalid_0's binary_logloss: 0.22084\tvalid_0's amex: 0.785489\n",
      "[400]\tvalid_0's binary_logloss: 0.218776\tvalid_0's amex: 0.788293\n",
      "[500]\tvalid_0's binary_logloss: 0.217572\tvalid_0's amex: 0.789484\n",
      "[600]\tvalid_0's binary_logloss: 0.216884\tvalid_0's amex: 0.790736\n",
      "[700]\tvalid_0's binary_logloss: 0.216483\tvalid_0's amex: 0.791173\n",
      "[800]\tvalid_0's binary_logloss: 0.216159\tvalid_0's amex: 0.79173\n",
      "[900]\tvalid_0's binary_logloss: 0.215849\tvalid_0's amex: 0.792223\n",
      "[1000]\tvalid_0's binary_logloss: 0.215741\tvalid_0's amex: 0.791546\n",
      "[1100]\tvalid_0's binary_logloss: 0.21572\tvalid_0's amex: 0.791765\n",
      "[1200]\tvalid_0's binary_logloss: 0.215725\tvalid_0's amex: 0.791811\n",
      "[1300]\tvalid_0's binary_logloss: 0.215724\tvalid_0's amex: 0.791695\n",
      "Fold 2 | 04:51 |  1300 trees |                Score = 0.79146\n",
      "[100]\tvalid_0's binary_logloss: 0.243482\tvalid_0's amex: 0.768123\n",
      "[200]\tvalid_0's binary_logloss: 0.224319\tvalid_0's amex: 0.781349\n",
      "[300]\tvalid_0's binary_logloss: 0.219358\tvalid_0's amex: 0.78797\n",
      "[400]\tvalid_0's binary_logloss: 0.21723\tvalid_0's amex: 0.789921\n",
      "[500]\tvalid_0's binary_logloss: 0.216066\tvalid_0's amex: 0.791423\n",
      "[600]\tvalid_0's binary_logloss: 0.215401\tvalid_0's amex: 0.79295\n",
      "[700]\tvalid_0's binary_logloss: 0.214916\tvalid_0's amex: 0.793621\n",
      "[800]\tvalid_0's binary_logloss: 0.214615\tvalid_0's amex: 0.794792\n",
      "[900]\tvalid_0's binary_logloss: 0.214348\tvalid_0's amex: 0.794567\n",
      "[1000]\tvalid_0's binary_logloss: 0.214192\tvalid_0's amex: 0.79527\n",
      "[1100]\tvalid_0's binary_logloss: 0.214126\tvalid_0's amex: 0.795776\n",
      "[1200]\tvalid_0's binary_logloss: 0.214033\tvalid_0's amex: 0.795576\n",
      "[1300]\tvalid_0's binary_logloss: 0.214023\tvalid_0's amex: 0.794992\n",
      "Fold 3 | 05:11 |  1300 trees |                Score = 0.79478\n",
      "[100]\tvalid_0's binary_logloss: 0.243707\tvalid_0's amex: 0.767274\n",
      "[200]\tvalid_0's binary_logloss: 0.224888\tvalid_0's amex: 0.782859\n",
      "[300]\tvalid_0's binary_logloss: 0.219951\tvalid_0's amex: 0.788346\n",
      "[400]\tvalid_0's binary_logloss: 0.217815\tvalid_0's amex: 0.790819\n",
      "[500]\tvalid_0's binary_logloss: 0.21669\tvalid_0's amex: 0.792195\n",
      "[600]\tvalid_0's binary_logloss: 0.216013\tvalid_0's amex: 0.793523\n",
      "[700]\tvalid_0's binary_logloss: 0.215604\tvalid_0's amex: 0.794083\n",
      "[800]\tvalid_0's binary_logloss: 0.215282\tvalid_0's amex: 0.794049\n",
      "[900]\tvalid_0's binary_logloss: 0.215064\tvalid_0's amex: 0.794442\n",
      "[1000]\tvalid_0's binary_logloss: 0.214967\tvalid_0's amex: 0.794539\n",
      "[1100]\tvalid_0's binary_logloss: 0.214786\tvalid_0's amex: 0.795005\n",
      "[1200]\tvalid_0's binary_logloss: 0.21468\tvalid_0's amex: 0.794519\n",
      "[1300]\tvalid_0's binary_logloss: 0.214667\tvalid_0's amex: 0.794465\n",
      "Fold 4 | 05:05 |  1300 trees |                Score = 0.79428\n",
      "OOF Score:                       0.79298\n",
      "\n"
     ]
    }
   ],
   "source": [
    "features = [f for f in train_agg_data.columns if f != 'customer_ID' and f != 'target' ]\n",
    "\n",
    "def my_booster(random_state=1, n_estimators=1300):\n",
    "    return LGBMClassifier(n_estimators=n_estimators,\n",
    "                          learning_rate=0.03, reg_lambda=50,\n",
    "                          min_child_samples=2400,\n",
    "                          num_leaves=94,\n",
    "                          colsample_bytree=0.19,\n",
    "                          max_bins=517, random_state=random_state)\n",
    "      \n",
    "score_list = []\n",
    "y_pred_list = []\n",
    "kf = StratifiedKFold(n_splits=5)\n",
    "for fold, (idx_tr, idx_va) in enumerate(kf.split(train_agg_data, target)):\n",
    "    X_tr, X_va, y_tr, y_va, model = None, None, None, None, None\n",
    "    start_time = datetime.datetime.now()\n",
    "    X_tr = train_agg_data.iloc[idx_tr][features]\n",
    "    X_va = train_agg_data.iloc[idx_va][features]\n",
    "    y_tr = target[idx_tr]\n",
    "    y_va = target[idx_va]\n",
    "    \n",
    "    model = my_booster()\n",
    "    with warnings.catch_warnings():\n",
    "        warnings.filterwarnings('ignore', category=UserWarning)\n",
    "        model.fit(X_tr, y_tr,\n",
    "                  eval_set = [(X_va, y_va)], \n",
    "                  eval_metric=[lgb_amex_metric],\n",
    "                  callbacks=[log_evaluation(100)])\n",
    "    X_tr, y_tr = None, None\n",
    "    y_va_pred = model.predict_proba(X_va, raw_score=True)\n",
    "    score = amex_metric(y_va, y_va_pred)\n",
    "    n_trees = model.best_iteration_\n",
    "    if n_trees is None: n_trees = model.n_estimators\n",
    "    print(f\"Fold {fold} | {str(datetime.datetime.now() - start_time)[-12:-7]} |\"\n",
    "          f\" {n_trees:5} trees |\"\n",
    "          f\"                Score = {score:.5f}\")\n",
    "    score_list.append(score)\n",
    "    \n",
    "    if INFERENCE:\n",
    "        y_pred_list.append(model.predict_proba(test_agg_data[features], raw_score=True))\n",
    "            \n",
    "print(f\"OOF Score:                       {np.mean(score_list):.5f}\")"
   ]
  },
  {
   "cell_type": "code",
   "execution_count": null,
   "metadata": {
    "tags": [
     "45"
    ]
   },
   "outputs": [],
   "source": [
    "sub_lgb = pd.DataFrame({'customer_ID': test.index,'prediction': np.mean(y_pred_list, axis=0)})\n",
    "sub_lgb.to_csv('submission_lgb.csv', index=False)"
   ]
  },
  {
   "cell_type": "markdown",
   "metadata": {
    "tags": [
     "46"
    ]
   },
   "source": [
    "# **Neural Network**"
   ]
  },
  {
   "cell_type": "code",
   "execution_count": 13,
   "metadata": {
    "execution": {
     "iopub.execute_input": "2023-01-16T11:18:33.953749Z",
     "iopub.status.busy": "2023-01-16T11:18:33.952728Z",
     "iopub.status.idle": "2023-01-16T11:18:33.960558Z",
     "shell.execute_reply": "2023-01-16T11:18:33.958945Z",
     "shell.execute_reply.started": "2023-01-16T11:18:33.953689Z"
    },
    "tags": [
     "47"
    ]
   },
   "outputs": [],
   "source": [
    "# feature selection\n",
    "features = [f for f in train_agg_data.columns if f != 'target' and f != 'customer_ID']"
   ]
  },
  {
   "cell_type": "code",
   "execution_count": 14,
   "metadata": {
    "execution": {
     "iopub.execute_input": "2023-01-16T11:18:36.569293Z",
     "iopub.status.busy": "2023-01-16T11:18:36.568784Z",
     "iopub.status.idle": "2023-01-16T11:18:37.232230Z",
     "shell.execute_reply": "2023-01-16T11:18:37.231056Z",
     "shell.execute_reply.started": "2023-01-16T11:18:36.569255Z"
    },
    "tags": [
     "48"
    ]
   },
   "outputs": [
    {
     "data": {
      "text/plain": [
       "122"
      ]
     },
     "execution_count": 14,
     "metadata": {},
     "output_type": "execute_result"
    }
   ],
   "source": [
    "import gc\n",
    "del train_data, test_data\n",
    "gc.collect()"
   ]
  },
  {
   "cell_type": "code",
   "execution_count": 15,
   "metadata": {
    "execution": {
     "iopub.execute_input": "2023-01-16T11:18:38.954677Z",
     "iopub.status.busy": "2023-01-16T11:18:38.954212Z",
     "iopub.status.idle": "2023-01-16T11:18:38.964554Z",
     "shell.execute_reply": "2023-01-16T11:18:38.963429Z",
     "shell.execute_reply.started": "2023-01-16T11:18:38.954638Z"
    },
    "tags": [
     "49"
    ]
   },
   "outputs": [],
   "source": [
    "# NN model\n",
    "\n",
    "def nn_model():\n",
    "    regularization = 4e-4\n",
    "    activation_func = 'swish'\n",
    "    inputs = Input(shape = (len(features)))\n",
    "\n",
    "    x0 = Dense(256,kernel_regularizer = tf.keras.regularizers.l2(regularization), activation = activation_func)(inputs)\n",
    "    x1 = Dense(128,kernel_regularizer = tf.keras.regularizers.l2(regularization),activation = activation_func)(x0)\n",
    "    x1 = Dense(64,kernel_regularizer = tf.keras.regularizers.l2(regularization),activation = activation_func)(x1)\n",
    "    x1 = Dense(32,kernel_regularizer = tf.keras.regularizers.l2(regularization),activation = activation_func)(x1)\n",
    "    \n",
    "    x1 = Concatenate()([x1, x0])\n",
    "    x1 = Dropout(0.1)(x1)\n",
    "    \n",
    "    x1 = Dense(16, kernel_regularizer=tf.keras.regularizers.l2(regularization),activation=activation_func,)(x1)\n",
    "    \n",
    "    x1 = Dense(1, activation='sigmoid')(x1)\n",
    "    \n",
    "    model = Model(inputs, x1)\n",
    "    \n",
    "    return model"
   ]
  },
  {
   "cell_type": "code",
   "execution_count": 16,
   "metadata": {
    "execution": {
     "iopub.execute_input": "2023-01-16T11:18:42.781029Z",
     "iopub.status.busy": "2023-01-16T11:18:42.779583Z",
     "iopub.status.idle": "2023-01-16T11:18:42.789336Z",
     "shell.execute_reply": "2023-01-16T11:18:42.787466Z",
     "shell.execute_reply.started": "2023-01-16T11:18:42.780953Z"
    },
    "tags": [
     "50"
    ]
   },
   "outputs": [],
   "source": [
    "#model parameters\n",
    "BATCH_SIZE         = 2048\n",
    "EPOCHS             = 192 \n",
    "EPOCHS_COSINEDECAY = 192 \n",
    "DIAGRAMS           = True\n",
    "USE_PLATEAU        = False\n",
    "INFERENCE          = False\n",
    "VERBOSE            = 0 \n",
    "TARGET             = 'target'"
   ]
  },
  {
   "cell_type": "code",
   "execution_count": 23,
   "metadata": {
    "execution": {
     "iopub.execute_input": "2023-01-16T11:22:59.026672Z",
     "iopub.status.busy": "2023-01-16T11:22:59.025923Z",
     "iopub.status.idle": "2023-01-16T11:22:59.042094Z",
     "shell.execute_reply": "2023-01-16T11:22:59.040746Z",
     "shell.execute_reply.started": "2023-01-16T11:22:59.026604Z"
    },
    "tags": [
     "51"
    ]
   },
   "outputs": [
    {
     "name": "stdout",
     "output_type": "stream",
     "text": [
      "CPU times: user 9 µs, sys: 0 ns, total: 9 µs\n",
      "Wall time: 15.5 µs\n"
     ]
    }
   ],
   "source": [
    " %%time\n",
    "# Defining model training function...\n",
    "def fit_model(X_train, y_train, X_val, y_val, run = 0):\n",
    "    '''\n",
    "    '''\n",
    "    lr_start = 0.01\n",
    "    start_time = datetime.datetime.now()\n",
    "    \n",
    "    scaler = StandardScaler()\n",
    "    X_train = scaler.fit_transform(X_train)\n",
    "\n",
    "    epochs = EPOCHS    \n",
    "    lr = ReduceLROnPlateau(monitor = 'val_loss', factor = 0.7, patience = 4, verbose = VERBOSE)\n",
    "    es = EarlyStopping(monitor = 'val_loss',patience = 12, verbose = 1, mode = 'min', restore_best_weights = True)\n",
    "    tm = tf.keras.callbacks.TerminateOnNaN()\n",
    "    callbacks = [lr, es, tm]\n",
    "    \n",
    "    # Cosine Learning Rate Decay\n",
    "    if USE_PLATEAU == False:\n",
    "        epochs = EPOCHS_COSINEDECAY\n",
    "        lr_end = 0.0002\n",
    "\n",
    "        def cosine_decay(epoch):\n",
    "            if epochs > 1:\n",
    "                w = (1 + math.cos(epoch / (epochs - 1) * math.pi)) / 2\n",
    "            else:\n",
    "                w = 1\n",
    "            return w * lr_start + (1 - w) * lr_end\n",
    "        \n",
    "        lr = LearningRateScheduler(cosine_decay, verbose = 0)\n",
    "        callbacks = [lr, tm]\n",
    "    \n",
    "    # Model Initialization...\n",
    "    model = nn_model()\n",
    "    optimizer_func = tf.keras.optimizers.Adam(learning_rate = lr_start)\n",
    "    loss_func = tf.keras.losses.BinaryCrossentropy()\n",
    "    model.compile(optimizer = optimizer_func, loss = loss_func)\n",
    "    \n",
    "    \n",
    "    X_val = scaler.transform(X_val)\n",
    "    validation_data = (X_val, y_val)\n",
    "    \n",
    "    history = model.fit(X_train, \n",
    "                        y_train, \n",
    "                        validation_data = validation_data, \n",
    "                        epochs          = epochs,\n",
    "                        verbose         = VERBOSE,\n",
    "                        batch_size      = BATCH_SIZE,\n",
    "                        shuffle         = True,\n",
    "                        callbacks       = callbacks\n",
    "                       )\n",
    "    \n",
    "    history_list.append(history.history)\n",
    "    \n",
    "    print(f'Training Loss: {history_list[-1][\"loss\"][-1]:.5f}, Validation Loss: {history_list[-1][\"val_loss\"][-1]:.5f}')\n",
    "    callbacks, es, lr, tm, history = None, None, None, None, None\n",
    "    \n",
    "    \n",
    "    y_val_pred = model.predict(X_val, batch_size = BATCH_SIZE, verbose = VERBOSE).ravel()\n",
    "    amex_score = amex_metric(y_val.values, y_val_pred, return_components = False)\n",
    "    \n",
    "    print(f'Fold {run}.{fold} | {str(datetime.datetime.now() - start_time)[-12:-7]}'\n",
    "          f'| Amex Score: {amex_score:.5f}')\n",
    "    \n",
    "    print('')\n",
    "    \n",
    "    score_list.append(amex_score)\n",
    "    \n",
    "    tst_data_scaled = scaler.transform(tst_agg_data[features])\n",
    "    tst_pred = model.predict(tst_data_scaled)\n",
    "    predictions.append(tst_pred)\n",
    "    \n",
    "    return model"
   ]
  },
  {
   "cell_type": "code",
   "execution_count": 54,
   "metadata": {
    "execution": {
     "iopub.execute_input": "2023-01-16T12:13:55.991346Z",
     "iopub.status.busy": "2023-01-16T12:13:55.990860Z",
     "iopub.status.idle": "2023-01-16T12:13:55.998697Z",
     "shell.execute_reply": "2023-01-16T12:13:55.997208Z",
     "shell.execute_reply.started": "2023-01-16T12:13:55.991308Z"
    },
    "tags": [
     "52"
    ]
   },
   "outputs": [],
   "source": [
    "%%time\n",
    "from sklearn.model_selection import KFold\n",
    "from sklearn.metrics import roc_auc_score, roc_curve\n",
    "import math\n",
    "\n",
    "# Create empty lists to store NN information...\n",
    "history_list = []\n",
    "score_list   = []\n",
    "predictions  = []\n",
    "\n",
    "# Define kfolds for training purposes...\n",
    "kf = KFold(n_splits = 5)\n",
    "\n",
    "for fold, (trn_idx, val_idx) in enumerate(kf.split(train_agg_data)):\n",
    "    X_train, X_val = train_agg_data.iloc[trn_idx][features], train_agg_data.iloc[val_idx][features]\n",
    "    y_train, y_val = train_agg_data.iloc[trn_idx][TARGET], train_agg_data.iloc[val_idx][TARGET]\n",
    "    \n",
    "    fit_model(X_train, y_train, X_val, y_val)\n",
    "    \n",
    "print(f'OOF AUC: {np.mean(score_list):.5f}')"
   ]
  },
  {
   "cell_type": "code",
   "execution_count": 55,
   "metadata": {
    "execution": {
     "iopub.execute_input": "2023-01-16T12:14:11.918516Z",
     "iopub.status.busy": "2023-01-16T12:14:11.918030Z",
     "iopub.status.idle": "2023-01-16T12:14:11.924514Z",
     "shell.execute_reply": "2023-01-16T12:14:11.922907Z",
     "shell.execute_reply.started": "2023-01-16T12:14:11.918476Z"
    },
    "tags": [
     "53"
    ]
   },
   "outputs": [],
   "source": [
    "sub['prediction'] = np.array(predictions).mean(axis = 0)"
   ]
  },
  {
   "cell_type": "code",
   "execution_count": 33,
   "metadata": {
    "execution": {
     "iopub.execute_input": "2023-01-16T11:48:37.527193Z",
     "iopub.status.busy": "2023-01-16T11:48:37.526454Z",
     "iopub.status.idle": "2023-01-16T11:48:39.841138Z",
     "shell.execute_reply": "2023-01-16T11:48:39.839476Z",
     "shell.execute_reply.started": "2023-01-16T11:48:37.527154Z"
    },
    "tags": [
     "54"
    ]
   },
   "outputs": [
    {
     "name": "stdout",
     "output_type": "stream",
     "text": [
      "CPU times: user 2.09 s, sys: 118 ms, total: 2.21 s\n",
      "Wall time: 2.31 s\n"
     ]
    }
   ],
   "source": [
    "%%time\n",
    "sub.to_csv('my_submission_NN.csv', index = False)"
   ]
  },
  {
   "cell_type": "markdown",
   "metadata": {
    "tags": [
     "55"
    ]
   },
   "source": [
    "# **XGB**"
   ]
  },
  {
   "cell_type": "code",
   "execution_count": 57,
   "metadata": {
    "execution": {
     "iopub.execute_input": "2023-01-16T12:15:55.929195Z",
     "iopub.status.busy": "2023-01-16T12:15:55.928751Z",
     "iopub.status.idle": "2023-01-16T12:15:55.937053Z",
     "shell.execute_reply": "2023-01-16T12:15:55.935537Z",
     "shell.execute_reply.started": "2023-01-16T12:15:55.929161Z"
    },
    "tags": [
     "56"
    ]
   },
   "outputs": [
    {
     "name": "stdout",
     "output_type": "stream",
     "text": [
      "XGBClassifier(base_score=0.5, booster='gbtree', callbacks=None,\n",
      "              colsample_bylevel=1, colsample_bynode=1, colsample_bytree=1,\n",
      "              early_stopping_rounds=None, enable_categorical=False,\n",
      "              eval_metric=None, gamma=0, gpu_id=-1, grow_policy='depthwise',\n",
      "              importance_type=None, interaction_constraints='',\n",
      "              learning_rate=0.300000012, max_bin=256, max_cat_to_onehot=4,\n",
      "              max_delta_step=0, max_depth=6, max_leaves=0, min_child_weight=1,\n",
      "              missing=nan, monotone_constraints='()', n_estimators=100,\n",
      "              n_jobs=0, num_parallel_tree=1, predictor='auto', random_state=0,\n",
      "              reg_alpha=0, reg_lambda=1, ...)\n"
     ]
    }
   ],
   "source": [
    "import xgboost as xgb\n",
    "\n",
    "model = xgb.XGBClassifier()\n",
    "model.fit(x_train, y_train)"
   ]
  },
  {
   "cell_type": "code",
   "execution_count": 61,
   "metadata": {
    "execution": {
     "iopub.execute_input": "2023-01-16T12:17:22.142348Z",
     "iopub.status.busy": "2023-01-16T12:17:22.141907Z",
     "iopub.status.idle": "2023-01-16T12:17:22.147002Z",
     "shell.execute_reply": "2023-01-16T12:17:22.146049Z",
     "shell.execute_reply.started": "2023-01-16T12:17:22.142312Z"
    },
    "tags": [
     "57"
    ]
   },
   "outputs": [],
   "source": [
    "y_pred = model.predict(x_test)"
   ]
  },
  {
   "cell_type": "code",
   "execution_count": 58,
   "metadata": {
    "execution": {
     "iopub.execute_input": "2023-01-16T12:16:32.714163Z",
     "iopub.status.busy": "2023-01-16T12:16:32.713653Z",
     "iopub.status.idle": "2023-01-16T12:16:32.721379Z",
     "shell.execute_reply": "2023-01-16T12:16:32.719720Z",
     "shell.execute_reply.started": "2023-01-16T12:16:32.714125Z"
    },
    "tags": [
     "58"
    ]
   },
   "outputs": [
    {
     "name": "stdout",
     "output_type": "stream",
     "text": [
      "0.5736806826400411\n"
     ]
    }
   ],
   "source": [
    "amex_metric(y_test, y_pred, return_components=False)"
   ]
  },
  {
   "cell_type": "code",
   "execution_count": 60,
   "metadata": {
    "execution": {
     "iopub.execute_input": "2023-01-16T12:17:08.303225Z",
     "iopub.status.busy": "2023-01-16T12:17:08.302629Z",
     "iopub.status.idle": "2023-01-16T12:17:08.309556Z",
     "shell.execute_reply": "2023-01-16T12:17:08.308668Z",
     "shell.execute_reply.started": "2023-01-16T12:17:08.303172Z"
    },
    "tags": [
     "59"
    ]
   },
   "outputs": [
    {
     "name": "stdout",
     "output_type": "stream",
     "text": [
      "array([0, 0, 0, ..., 0, 0, 0])\n"
     ]
    }
   ],
   "source": [
    "predictions = model.predict(test_dataset[num_columns])\n",
    "predictions"
   ]
  },
  {
   "cell_type": "code",
   "execution_count": null,
   "metadata": {
    "tags": [
     "60"
    ]
   },
   "outputs": [],
   "source": [
    "sample_dataset = pd.read_csv('/kaggle/input/amex-default-prediction/sample_submission.csv')\n",
    "output = pd.DataFrame({'customer_ID': sample_dataset.customer_ID, 'prediction': predictions})\n",
    "output.to_csv('submission.csv', index=False)"
   ]
  }
 ],
 "metadata": {
  "celltoolbar": "Tags",
  "kernelspec": {
   "display_name": "Python 3 (ipykernel)",
   "language": "python",
   "name": "python3"
  },
  "language_info": {
   "codemirror_mode": {
    "name": "ipython",
    "version": 3
   },
   "file_extension": ".py",
   "mimetype": "text/x-python",
   "name": "python",
   "nbconvert_exporter": "python",
   "pygments_lexer": "ipython3",
   "version": "3.9.12"
  }
 },
 "nbformat": 4,
 "nbformat_minor": 4
}
